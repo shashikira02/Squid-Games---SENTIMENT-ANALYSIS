{
 "cells": [
  {
   "cell_type": "code",
   "execution_count": 5,
   "id": "2120fc82",
   "metadata": {
    "execution": {
     "iopub.execute_input": "2022-03-04T00:09:01.929306Z",
     "iopub.status.busy": "2022-03-04T00:09:01.927585Z",
     "iopub.status.idle": "2022-03-04T00:09:13.724321Z",
     "shell.execute_reply": "2022-03-04T00:09:13.723411Z",
     "shell.execute_reply.started": "2022-03-03T23:07:57.45071Z"
    },
    "executionInfo": {
     "elapsed": 395,
     "status": "ok",
     "timestamp": 1646339845177,
     "user": {
      "displayName": "Vamsy Tammineedi",
      "photoUrl": "https://lh3.googleusercontent.com/a-/AOh14GgoreFVp54oCF9HTZ8k31IkTQ0SEh6ilfCoZnVz=s64",
      "userId": "14108204789502381002"
     },
     "user_tz": 360
    },
    "id": "BAmEv9NO0IgK",
    "outputId": "36ddda79-0f07-4282-8b89-36d1ae55b5de",
    "papermill": {
     "duration": 11.851786,
     "end_time": "2022-03-04T00:09:13.724542",
     "exception": false,
     "start_time": "2022-03-04T00:09:01.872756",
     "status": "completed"
    },
    "tags": []
   },
   "outputs": [],
   "source": [
    "# importing libraries\n",
    "\n",
    "import pandas as pd\n",
    "import numpy as np\n",
    "from datetime import datetime\n",
    "\n",
    "import matplotlib.pyplot as plt\n",
    "plt.style.use('default')\n",
    "\n",
    "import seaborn as sns\n",
    "import re\n",
    "\n",
    "from nltk import bigrams, trigrams, word_tokenize, FreqDist\n",
    "from nltk.corpus import stopwords\n",
    "from nltk.stem import WordNetLemmatizer, PorterStemmer\n",
    "from textblob import TextBlob\n",
    "\n",
    "from nltk.sentiment.vader import SentimentIntensityAnalyzer\n",
    "from wordcloud import WordCloud\n",
    "\n",
    "import gensim\n",
    "import gensim.corpora as corpora\n",
    "from gensim.utils import simple_preprocess\n",
    "from gensim.models import CoherenceModel\n",
    "import spacy\n",
    "\n",
    "from sklearn.model_selection import train_test_split\n",
    "from sklearn.feature_extraction.text import TfidfVectorizer\n",
    "import pickle \n",
    "from sklearn.decomposition import TruncatedSVD\n",
    "from sklearn import model_selection, svm\n",
    "from sklearn.metrics import accuracy_score, classification_report\n",
    "from sklearn.ensemble import RandomForestClassifier"
   ]
  },
  {
   "cell_type": "code",
   "execution_count": null,
   "id": "d3c44351",
   "metadata": {
    "execution": {
     "iopub.execute_input": "2022-03-04T00:09:13.822359Z",
     "iopub.status.busy": "2022-03-04T00:09:13.821738Z",
     "iopub.status.idle": "2022-03-04T00:09:14.284778Z",
     "shell.execute_reply": "2022-03-04T00:09:14.285471Z",
     "shell.execute_reply.started": "2022-03-03T23:08:00.439348Z"
    },
    "executionInfo": {
     "elapsed": 1289,
     "status": "ok",
     "timestamp": 1646339846460,
     "user": {
      "displayName": "Vamsy Tammineedi",
      "photoUrl": "https://lh3.googleusercontent.com/a-/AOh14GgoreFVp54oCF9HTZ8k31IkTQ0SEh6ilfCoZnVz=s64",
      "userId": "14108204789502381002"
     },
     "user_tz": 360
    },
    "id": "W3No7un00IgO",
    "outputId": "036f80ce-c7a3-4979-e20e-727030390d3f",
    "papermill": {
     "duration": 0.514957,
     "end_time": "2022-03-04T00:09:14.285710",
     "exception": false,
     "start_time": "2022-03-04T00:09:13.770753",
     "status": "completed"
    },
    "tags": []
   },
   "outputs": [],
   "source": [
    "# Download Lexicons and Stopwords\n",
    "import nltk\n",
    "nltk.download('vader_lexicon')\n",
    "nltk.download('stopwords')\n",
    "nltk.download('punkt')\n",
    "nltk.download('wordnet')"
   ]
  },
  {
   "cell_type": "code",
   "execution_count": 7,
   "id": "f71690f0",
   "metadata": {
    "execution": {
     "iopub.execute_input": "2022-03-04T00:09:14.383557Z",
     "iopub.status.busy": "2022-03-04T00:09:14.382642Z",
     "iopub.status.idle": "2022-03-04T00:09:15.480176Z",
     "shell.execute_reply": "2022-03-04T00:09:15.479313Z",
     "shell.execute_reply.started": "2022-03-03T23:08:22.112195Z"
    },
    "executionInfo": {
     "elapsed": 2770,
     "status": "ok",
     "timestamp": 1646339865603,
     "user": {
      "displayName": "Vamsy Tammineedi",
      "photoUrl": "https://lh3.googleusercontent.com/a-/AOh14GgoreFVp54oCF9HTZ8k31IkTQ0SEh6ilfCoZnVz=s64",
      "userId": "14108204789502381002"
     },
     "user_tz": 360
    },
    "id": "9p07mzwb0IgO",
    "outputId": "48d86498-fb45-4380-8db0-0687eecd060c",
    "papermill": {
     "duration": 1.148518,
     "end_time": "2022-03-04T00:09:15.480343",
     "exception": false,
     "start_time": "2022-03-04T00:09:14.331825",
     "status": "completed"
    },
    "tags": []
   },
   "outputs": [
    {
     "data": {
      "text/plain": [
       "(80019, 12)"
      ]
     },
     "execution_count": 7,
     "metadata": {},
     "output_type": "execute_result"
    }
   ],
   "source": [
    "# Reading the data\n",
    "tweet_data = pd.read_csv('/Users/pasapulagnanasurya/Downloads/tweets_v8.csv')\n",
    "tweet_data.shape"
   ]
  },
  {
   "cell_type": "code",
   "execution_count": 8,
   "id": "4e41e238",
   "metadata": {
    "execution": {
     "iopub.execute_input": "2022-03-04T00:09:15.581418Z",
     "iopub.status.busy": "2022-03-04T00:09:15.580613Z",
     "iopub.status.idle": "2022-03-04T00:09:15.598337Z",
     "shell.execute_reply": "2022-03-04T00:09:15.598781Z",
     "shell.execute_reply.started": "2022-03-03T23:08:25.048544Z"
    },
    "executionInfo": {
     "elapsed": 7,
     "status": "ok",
     "timestamp": 1646339865604,
     "user": {
      "displayName": "Vamsy Tammineedi",
      "photoUrl": "https://lh3.googleusercontent.com/a-/AOh14GgoreFVp54oCF9HTZ8k31IkTQ0SEh6ilfCoZnVz=s64",
      "userId": "14108204789502381002"
     },
     "user_tz": 360
    },
    "id": "wJi1Cz6m0IgP",
    "outputId": "4dcfb2c0-d71e-4fe3-ec45-5dbf0c5427d7",
    "papermill": {
     "duration": 0.072244,
     "end_time": "2022-03-04T00:09:15.598961",
     "exception": false,
     "start_time": "2022-03-04T00:09:15.526717",
     "status": "completed"
    },
    "tags": []
   },
   "outputs": [
    {
     "data": {
      "text/html": [
       "<div>\n",
       "<style scoped>\n",
       "    .dataframe tbody tr th:only-of-type {\n",
       "        vertical-align: middle;\n",
       "    }\n",
       "\n",
       "    .dataframe tbody tr th {\n",
       "        vertical-align: top;\n",
       "    }\n",
       "\n",
       "    .dataframe thead th {\n",
       "        text-align: right;\n",
       "    }\n",
       "</style>\n",
       "<table border=\"1\" class=\"dataframe\">\n",
       "  <thead>\n",
       "    <tr style=\"text-align: right;\">\n",
       "      <th></th>\n",
       "      <th>user_name</th>\n",
       "      <th>user_location</th>\n",
       "      <th>user_description</th>\n",
       "      <th>user_created</th>\n",
       "      <th>user_followers</th>\n",
       "      <th>user_friends</th>\n",
       "      <th>user_favourites</th>\n",
       "      <th>user_verified</th>\n",
       "      <th>date</th>\n",
       "      <th>text</th>\n",
       "      <th>source</th>\n",
       "      <th>is_retweet</th>\n",
       "    </tr>\n",
       "  </thead>\n",
       "  <tbody>\n",
       "    <tr>\n",
       "      <th>0</th>\n",
       "      <td>the _ûndër-ratèd niggáh👊🏾</td>\n",
       "      <td>NaN</td>\n",
       "      <td>@ManUtd die hard❤️❤️💪🏿💪🏿\\n\\n\\nYOLO\\n\\n\\nJ'ai b...</td>\n",
       "      <td>2019-09-06 19:24:57+00:00</td>\n",
       "      <td>581</td>\n",
       "      <td>1035</td>\n",
       "      <td>8922</td>\n",
       "      <td>False</td>\n",
       "      <td>2021-10-06 12:05:38+00:00</td>\n",
       "      <td>When life hits and the same time poverty strik...</td>\n",
       "      <td>Twitter for Android</td>\n",
       "      <td>False</td>\n",
       "    </tr>\n",
       "    <tr>\n",
       "      <th>1</th>\n",
       "      <td>Best uncle on planet earth</td>\n",
       "      <td>NaN</td>\n",
       "      <td>NaN</td>\n",
       "      <td>2013-05-08 19:35:26+00:00</td>\n",
       "      <td>741</td>\n",
       "      <td>730</td>\n",
       "      <td>8432</td>\n",
       "      <td>False</td>\n",
       "      <td>2021-10-06 12:05:22+00:00</td>\n",
       "      <td>That marble episode of #SquidGame  ruined me. 😭😭😭</td>\n",
       "      <td>Twitter for Android</td>\n",
       "      <td>False</td>\n",
       "    </tr>\n",
       "    <tr>\n",
       "      <th>2</th>\n",
       "      <td>marcie</td>\n",
       "      <td>NaN</td>\n",
       "      <td>animal crossing. chicken nuggets. baby yoda. s...</td>\n",
       "      <td>2009-02-21 10:31:30+00:00</td>\n",
       "      <td>562</td>\n",
       "      <td>1197</td>\n",
       "      <td>62732</td>\n",
       "      <td>False</td>\n",
       "      <td>2021-10-06 12:05:22+00:00</td>\n",
       "      <td>#Squidgame time</td>\n",
       "      <td>Twitter Web App</td>\n",
       "      <td>False</td>\n",
       "    </tr>\n",
       "    <tr>\n",
       "      <th>3</th>\n",
       "      <td>YoMo.Mdp</td>\n",
       "      <td>Any pronouns</td>\n",
       "      <td>Where the heck is the karma\\nI'm going on my s...</td>\n",
       "      <td>2021-02-14 13:21:22+00:00</td>\n",
       "      <td>3</td>\n",
       "      <td>277</td>\n",
       "      <td>1341</td>\n",
       "      <td>False</td>\n",
       "      <td>2021-10-06 12:05:04+00:00</td>\n",
       "      <td>//Blood on 1st slide\\nI'm joining the squidgam...</td>\n",
       "      <td>Twitter Web App</td>\n",
       "      <td>False</td>\n",
       "    </tr>\n",
       "    <tr>\n",
       "      <th>4</th>\n",
       "      <td>Laura Reactions</td>\n",
       "      <td>France</td>\n",
       "      <td>I talk and I make reactions videos about shows...</td>\n",
       "      <td>2018-12-19 20:38:28+00:00</td>\n",
       "      <td>330</td>\n",
       "      <td>152</td>\n",
       "      <td>2278</td>\n",
       "      <td>False</td>\n",
       "      <td>2021-10-06 12:05:00+00:00</td>\n",
       "      <td>The two first games, players were killed by th...</td>\n",
       "      <td>Twitter Web App</td>\n",
       "      <td>False</td>\n",
       "    </tr>\n",
       "  </tbody>\n",
       "</table>\n",
       "</div>"
      ],
      "text/plain": [
       "                    user_name  user_location  \\\n",
       "0   the _ûndër-ratèd niggáh👊🏾            NaN   \n",
       "1  Best uncle on planet earth            NaN   \n",
       "2                      marcie            NaN   \n",
       "3                    YoMo.Mdp  Any pronouns    \n",
       "4             Laura Reactions         France   \n",
       "\n",
       "                                    user_description  \\\n",
       "0  @ManUtd die hard❤️❤️💪🏿💪🏿\\n\\n\\nYOLO\\n\\n\\nJ'ai b...   \n",
       "1                                                NaN   \n",
       "2  animal crossing. chicken nuggets. baby yoda. s...   \n",
       "3  Where the heck is the karma\\nI'm going on my s...   \n",
       "4  I talk and I make reactions videos about shows...   \n",
       "\n",
       "                user_created  user_followers  user_friends  user_favourites  \\\n",
       "0  2019-09-06 19:24:57+00:00             581          1035             8922   \n",
       "1  2013-05-08 19:35:26+00:00             741           730             8432   \n",
       "2  2009-02-21 10:31:30+00:00             562          1197            62732   \n",
       "3  2021-02-14 13:21:22+00:00               3           277             1341   \n",
       "4  2018-12-19 20:38:28+00:00             330           152             2278   \n",
       "\n",
       "   user_verified                       date  \\\n",
       "0          False  2021-10-06 12:05:38+00:00   \n",
       "1          False  2021-10-06 12:05:22+00:00   \n",
       "2          False  2021-10-06 12:05:22+00:00   \n",
       "3          False  2021-10-06 12:05:04+00:00   \n",
       "4          False  2021-10-06 12:05:00+00:00   \n",
       "\n",
       "                                                text               source  \\\n",
       "0  When life hits and the same time poverty strik...  Twitter for Android   \n",
       "1  That marble episode of #SquidGame  ruined me. 😭😭😭  Twitter for Android   \n",
       "2                                    #Squidgame time      Twitter Web App   \n",
       "3  //Blood on 1st slide\\nI'm joining the squidgam...      Twitter Web App   \n",
       "4  The two first games, players were killed by th...      Twitter Web App   \n",
       "\n",
       "   is_retweet  \n",
       "0       False  \n",
       "1       False  \n",
       "2       False  \n",
       "3       False  \n",
       "4       False  "
      ]
     },
     "execution_count": 8,
     "metadata": {},
     "output_type": "execute_result"
    }
   ],
   "source": [
    "tweet_data.head()"
   ]
  },
  {
   "cell_type": "code",
   "execution_count": 9,
   "id": "49e12d3f",
   "metadata": {
    "execution": {
     "iopub.execute_input": "2022-03-04T00:09:15.698769Z",
     "iopub.status.busy": "2022-03-04T00:09:15.697733Z",
     "iopub.status.idle": "2022-03-04T00:09:15.713550Z",
     "shell.execute_reply": "2022-03-04T00:09:15.714084Z",
     "shell.execute_reply.started": "2022-03-03T23:08:25.358876Z"
    },
    "executionInfo": {
     "elapsed": 207,
     "status": "ok",
     "timestamp": 1646339865806,
     "user": {
      "displayName": "Vamsy Tammineedi",
      "photoUrl": "https://lh3.googleusercontent.com/a-/AOh14GgoreFVp54oCF9HTZ8k31IkTQ0SEh6ilfCoZnVz=s64",
      "userId": "14108204789502381002"
     },
     "user_tz": 360
    },
    "id": "Ks9y5iLo0IgP",
    "papermill": {
     "duration": 0.067441,
     "end_time": "2022-03-04T00:09:15.714304",
     "exception": false,
     "start_time": "2022-03-04T00:09:15.646863",
     "status": "completed"
    },
    "tags": []
   },
   "outputs": [],
   "source": [
    "# get only required columns\n",
    "data = tweet_data[['user_location','date','text','source','user_verified','is_retweet']]"
   ]
  },
  {
   "cell_type": "code",
   "execution_count": 10,
   "id": "b832f035",
   "metadata": {
    "execution": {
     "iopub.execute_input": "2022-03-04T00:09:15.817249Z",
     "iopub.status.busy": "2022-03-04T00:09:15.816264Z",
     "iopub.status.idle": "2022-03-04T00:09:15.845557Z",
     "shell.execute_reply": "2022-03-04T00:09:15.846104Z",
     "shell.execute_reply.started": "2022-03-03T23:08:26.600927Z"
    },
    "executionInfo": {
     "elapsed": 6,
     "status": "ok",
     "timestamp": 1646339865807,
     "user": {
      "displayName": "Vamsy Tammineedi",
      "photoUrl": "https://lh3.googleusercontent.com/a-/AOh14GgoreFVp54oCF9HTZ8k31IkTQ0SEh6ilfCoZnVz=s64",
      "userId": "14108204789502381002"
     },
     "user_tz": 360
    },
    "id": "zTZ7LnZz0IgQ",
    "outputId": "e1b787ae-5208-4717-8e58-50dfef9047a0",
    "papermill": {
     "duration": 0.083142,
     "end_time": "2022-03-04T00:09:15.846291",
     "exception": false,
     "start_time": "2022-03-04T00:09:15.763149",
     "status": "completed"
    },
    "tags": []
   },
   "outputs": [
    {
     "data": {
      "text/plain": [
       "user_location    23870\n",
       "date                 0\n",
       "text                 0\n",
       "source               0\n",
       "user_verified        0\n",
       "is_retweet           0\n",
       "dtype: int64"
      ]
     },
     "execution_count": 10,
     "metadata": {},
     "output_type": "execute_result"
    }
   ],
   "source": [
    "# missing value check\n",
    "data.isnull().sum()"
   ]
  },
  {
   "cell_type": "markdown",
   "id": "b24cc2a7",
   "metadata": {
    "id": "jEZprz-hnS-b",
    "papermill": {
     "duration": 0.0492,
     "end_time": "2022-03-04T00:09:15.948057",
     "exception": false,
     "start_time": "2022-03-04T00:09:15.898857",
     "status": "completed"
    },
    "tags": []
   },
   "source": [
    "# Exploratory Analysis"
   ]
  },
  {
   "cell_type": "code",
   "execution_count": 11,
   "id": "ff90ebb0",
   "metadata": {
    "execution": {
     "iopub.execute_input": "2022-03-04T00:09:20.013931Z",
     "iopub.status.busy": "2022-03-04T00:09:20.013301Z",
     "iopub.status.idle": "2022-03-04T00:09:20.025774Z",
     "shell.execute_reply": "2022-03-04T00:09:20.026306Z",
     "shell.execute_reply.started": "2022-03-03T23:08:44.609275Z"
    },
    "executionInfo": {
     "elapsed": 4,
     "status": "ok",
     "timestamp": 1646339865807,
     "user": {
      "displayName": "Vamsy Tammineedi",
      "photoUrl": "https://lh3.googleusercontent.com/a-/AOh14GgoreFVp54oCF9HTZ8k31IkTQ0SEh6ilfCoZnVz=s64",
      "userId": "14108204789502381002"
     },
     "user_tz": 360
    },
    "id": "u4COvfLX0IgU",
    "papermill": {
     "duration": 0.070358,
     "end_time": "2022-03-04T00:09:20.026493",
     "exception": false,
     "start_time": "2022-03-04T00:09:19.956135",
     "status": "completed"
    },
    "tags": []
   },
   "outputs": [],
   "source": [
    "stop_words=stopwords.words('english')\n",
    "stop_words.extend(['squid','game'])\n",
    "\n",
    "def clean_tweet(text,full_clean=False):\n",
    "    le = WordNetLemmatizer()\n",
    "    if type(text) == np.float64:\n",
    "        return \"\"\n",
    "    text = re.sub(\"'\", \"\", text)\n",
    "    text = re.sub(\"\\n\", \"\", text)\n",
    "    text = re.sub(\"@[A-Za-z0-9_]+\",\"\", text)\n",
    "    text = re.sub(\"#[A-Za-z0-9_]+\",\"\", text)\n",
    "    text = re.sub(r'http\\S+', '', text)\n",
    "    text = re.sub('[()!?]', ' ', text)\n",
    "    if full_clean:\n",
    "      text = text.lower()\n",
    "      text = re.sub(\"[^a-z0-9]\",\" \", text)\n",
    "      text = [le.lemmatize(w) for w in text.split() if not (w in stop_words) and (len(w)>2)]\n",
    "    else:\n",
    "      text = re.sub(\"[^A-Za-z0-9]\",\" \", text)\n",
    "      text = [le.lemmatize(w) for w in text.split() if (len(w)>2)]\n",
    "    text = \" \".join(word for word in text)\n",
    "    return text\n",
    "\n",
    "\n",
    "def word_cloud_gen(text,stop_words):\n",
    "    plt.figure(figsize=(20,10))\n",
    "    wordcloud = WordCloud(width=800,height=400,stopwords=stop_words, background_color=\"white\").generate(text)\n",
    "    plt.imshow(wordcloud, interpolation='bilinear')\n",
    "    plt.axis(\"off\")\n",
    "    plt.show()\n",
    "    # return wordcloud.words_"
   ]
  },
  {
   "cell_type": "code",
   "execution_count": null,
   "id": "168e9b7a",
   "metadata": {
    "execution": {
     "iopub.execute_input": "2022-03-04T00:09:20.132765Z",
     "iopub.status.busy": "2022-03-04T00:09:20.132045Z",
     "iopub.status.idle": "2022-03-04T00:09:26.909115Z",
     "shell.execute_reply": "2022-03-04T00:09:26.909641Z",
     "shell.execute_reply.started": "2022-03-03T23:08:53.155245Z"
    },
    "executionInfo": {
     "elapsed": 8132,
     "status": "ok",
     "timestamp": 1646339929331,
     "user": {
      "displayName": "Vamsy Tammineedi",
      "photoUrl": "https://lh3.googleusercontent.com/a-/AOh14GgoreFVp54oCF9HTZ8k31IkTQ0SEh6ilfCoZnVz=s64",
      "userId": "14108204789502381002"
     },
     "user_tz": 360
    },
    "id": "UEn5RKPu0IgU",
    "outputId": "a8792911-70fd-4638-e1b3-9dee10f7cd71",
    "papermill": {
     "duration": 6.832112,
     "end_time": "2022-03-04T00:09:26.909822",
     "exception": false,
     "start_time": "2022-03-04T00:09:20.077710",
     "status": "completed"
    },
    "tags": []
   },
   "outputs": [],
   "source": [
    "data['full_clean'] = data['text'].apply(lambda x : clean_tweet(x,full_clean=True))"
   ]
  },
  {
   "cell_type": "code",
   "execution_count": 14,
   "id": "af7cc944",
   "metadata": {
    "execution": {
     "iopub.execute_input": "2022-03-04T00:09:29.341699Z",
     "iopub.status.busy": "2022-03-04T00:09:29.328632Z",
     "iopub.status.idle": "2022-03-04T00:09:31.835114Z",
     "shell.execute_reply": "2022-03-04T00:09:31.834470Z",
     "shell.execute_reply.started": "2022-03-03T23:09:04.857892Z"
    },
    "executionInfo": {
     "elapsed": 2663,
     "status": "ok",
     "timestamp": 1646339931990,
     "user": {
      "displayName": "Vamsy Tammineedi",
      "photoUrl": "https://lh3.googleusercontent.com/a-/AOh14GgoreFVp54oCF9HTZ8k31IkTQ0SEh6ilfCoZnVz=s64",
      "userId": "14108204789502381002"
     },
     "user_tz": 360
    },
    "id": "LYMXQdwt0IgV",
    "papermill": {
     "duration": 2.593078,
     "end_time": "2022-03-04T00:09:31.835287",
     "exception": false,
     "start_time": "2022-03-04T00:09:29.242209",
     "status": "completed"
    },
    "tags": []
   },
   "outputs": [],
   "source": [
    "all_tweets = \" \".join(data['full_clean'])\n",
    "bigms = bigrams(word_tokenize(all_tweets))\n",
    "fdist = FreqDist(bigms)\n",
    "sorted_fdist = dict(sorted(fdist.items(), key=lambda item: item[1],reverse=True))"
   ]
  },
  {
   "cell_type": "code",
   "execution_count": 15,
   "id": "dfb62114",
   "metadata": {
    "execution": {
     "iopub.execute_input": "2022-03-04T00:09:32.011375Z",
     "iopub.status.busy": "2022-03-04T00:09:32.010354Z",
     "iopub.status.idle": "2022-03-04T00:09:32.285443Z",
     "shell.execute_reply": "2022-03-04T00:09:32.285925Z",
     "shell.execute_reply.started": "2022-03-03T23:09:10.401509Z"
    },
    "executionInfo": {
     "elapsed": 338,
     "status": "ok",
     "timestamp": 1646241650131,
     "user": {
      "displayName": "Vamsy Tammineedi",
      "photoUrl": "https://lh3.googleusercontent.com/a-/AOh14GgoreFVp54oCF9HTZ8k31IkTQ0SEh6ilfCoZnVz=s64",
      "userId": "14108204789502381002"
     },
     "user_tz": 360
    },
    "id": "76fpRB-y0IgV",
    "outputId": "f939581e-1476-4761-88f0-055b760ed10c",
    "papermill": {
     "duration": 0.362964,
     "end_time": "2022-03-04T00:09:32.286093",
     "exception": false,
     "start_time": "2022-03-04T00:09:31.923129",
     "status": "completed"
    },
    "tags": []
   },
   "outputs": [
    {
     "data": {
      "image/png": "[encoded data removed]",
      "text/plain": [
       "<Figure size 640x480 with 1 Axes>"
      ]
     },
     "metadata": {},
     "output_type": "display_data"
    }
   ],
   "source": [
    "# Most mentioned episodes\n",
    "six_ = ['marble','gganbu','6','6th','six','sixth','ganbu']\n",
    "one_ = ['one','1','1st','light','first']\n",
    "two_ = ['second','2nd','two','2','hell']\n",
    "three_ = ['three','3','3rd','third','umbrella','honeycomb','daglona']\n",
    "four_ = ['four','4','4th','fourth','war','tug']\n",
    "five_ = ['five','5th','5','fifth']\n",
    "seven_ = ['vip','seven','7','7th','seventh','vips']\n",
    "eight_ = ['eight','eighth','8','8th','man']\n",
    "nine_ = ['nine','9','9th','ninth','final','last','day']\n",
    "\n",
    "episodes = {'one':0,\n",
    "            'two':0,\n",
    "            'three':0,\n",
    "            'four':0,\n",
    "            'five':0,\n",
    "            'six':0,\n",
    "            'seven':0,\n",
    "            'eight':0,\n",
    "            'nine':0}\n",
    "\n",
    "for k,v in sorted_fdist.items():\n",
    "  if 'episode' in k:\n",
    "    if k[0] in one_ or k[1] in one_:\n",
    "      episodes['one'] += int(v)\n",
    "    if k[0] in two_ or k[1] in two_:\n",
    "      episodes['two'] += int(v)\n",
    "    if k[0] in three_ or k[1] in three_:\n",
    "      episodes['three'] += int(v)\n",
    "    if k[0] in four_ or k[1] in four_:\n",
    "      episodes['four'] += int(v)\n",
    "    if k[0] in five_ or k[1] in five_:\n",
    "          episodes['five'] += int(v)\n",
    "    if k[0] in six_ or k[1] in six_:\n",
    "      episodes['six'] += int(v)\n",
    "    if k[0] in seven_ or k[1] in seven_:\n",
    "      episodes['seven'] += int(v)\n",
    "    if k[0] in eight_ or k[1] in eight_:\n",
    "      episodes['eight'] += int(v)\n",
    "    if k[0] in nine_ or k[1] in nine_:\n",
    "      episodes['nine'] += int(v)     \n",
    "\n",
    "plt.bar(range(len(episodes)), list(episodes.values()), align='center')\n",
    "plt.xticks(range(len(episodes)), list(episodes.keys()))\n",
    "plt.xlabel('Episodes')\n",
    "plt.ylabel('Number of mentions in tweets')\n",
    "plt.title('For which episode people reacted the most?')\n",
    "plt.show()"
   ]
  },
  {
   "cell_type": "code",
   "execution_count": 16,
   "id": "d4075c6c",
   "metadata": {
    "execution": {
     "iopub.execute_input": "2022-03-04T00:09:32.461699Z",
     "iopub.status.busy": "2022-03-04T00:09:32.460661Z",
     "iopub.status.idle": "2022-03-04T00:09:32.508150Z",
     "shell.execute_reply": "2022-03-04T00:09:32.508834Z",
     "shell.execute_reply.started": "2022-03-03T23:09:43.612969Z"
    },
    "executionInfo": {
     "elapsed": 289,
     "status": "ok",
     "timestamp": 1646340007219,
     "user": {
      "displayName": "Vamsy Tammineedi",
      "photoUrl": "https://lh3.googleusercontent.com/a-/AOh14GgoreFVp54oCF9HTZ8k31IkTQ0SEh6ilfCoZnVz=s64",
      "userId": "14108204789502381002"
     },
     "user_tz": 360
    },
    "id": "PSEjFME_0IgV",
    "outputId": "7ab8ed87-9d11-422a-d494-861763c4b8ec",
    "papermill": {
     "duration": 0.139701,
     "end_time": "2022-03-04T00:09:32.509107",
     "exception": false,
     "start_time": "2022-03-04T00:09:32.369406",
     "status": "completed"
    },
    "tags": []
   },
   "outputs": [
    {
     "name": "stdout",
     "output_type": "stream",
     "text": [
      "Players\t\tMentions\n",
      "player 001\t143\n",
      "player 067\t137\n",
      "player 456\t136\n",
      "player 199\t46\n",
      "player 218\t45\n",
      "player 212\t38\n",
      "player 240\t24\n",
      "456 player\t19\n",
      "player 101\t15\n"
     ]
    }
   ],
   "source": [
    "# Most mentioned players\n",
    "# https://www.marieclaire.com/culture/a37695414/squid-game-cast-netflix/\n",
    "\n",
    "print(\"Players\\t\\tMentions\")\n",
    "for k,v in sorted_fdist.items():\n",
    "  if 'player' in k and (k[0].isnumeric() or k[1].isnumeric()) and v >= 15:\n",
    "    print(f\"{' '.join(k)}\\t{v}\")"
   ]
  },
  {
   "cell_type": "code",
   "execution_count": 17,
   "id": "b3f349e8",
   "metadata": {
    "execution": {
     "iopub.execute_input": "2022-03-04T00:09:32.681779Z",
     "iopub.status.busy": "2022-03-04T00:09:32.681139Z",
     "iopub.status.idle": "2022-03-04T00:09:35.226636Z",
     "shell.execute_reply": "2022-03-04T00:09:35.226025Z",
     "shell.execute_reply.started": "2022-03-03T23:09:44.526545Z"
    },
    "id": "vBPRqyky0IgV",
    "papermill": {
     "duration": 2.632516,
     "end_time": "2022-03-04T00:09:35.226789",
     "exception": false,
     "start_time": "2022-03-04T00:09:32.594273",
     "status": "completed"
    },
    "tags": []
   },
   "outputs": [],
   "source": [
    "# Tri grams\n",
    "trigms = trigrams(word_tokenize(all_tweets))\n",
    "fdist_tri = FreqDist(trigms)\n",
    "sorted_fdist_tri = dict(sorted(fdist_tri.items(), key=lambda item: item[1],reverse=True))"
   ]
  },
  {
   "cell_type": "code",
   "execution_count": 19,
   "id": "55fa08fd",
   "metadata": {
    "execution": {
     "iopub.execute_input": "2022-03-04T00:09:35.402504Z",
     "iopub.status.busy": "2022-03-04T00:09:35.401767Z",
     "iopub.status.idle": "2022-03-04T00:09:35.891692Z",
     "shell.execute_reply": "2022-03-04T00:09:35.892386Z",
     "shell.execute_reply.started": "2022-03-03T23:09:50.23551Z"
    },
    "id": "IcOH3tXZ0IgV",
    "papermill": {
     "duration": 0.58015,
     "end_time": "2022-03-04T00:09:35.892598",
     "exception": false,
     "start_time": "2022-03-04T00:09:35.312448",
     "status": "completed"
    },
    "tags": []
   },
   "outputs": [],
   "source": [
    "player_dict = {'001':[],'456':[],'067':[],'199':[],'218':[],'212':[],'240':[],'101':[]}\n",
    "\n",
    "for p in player_dict.keys():\n",
    "  for k,v in sorted_fdist_tri.items():\n",
    "    if p in k:\n",
    "      player_dict[p].extend(list(k))\n"
   ]
  },
  {
   "cell_type": "markdown",
   "id": "07238e97",
   "metadata": {
    "id": "T2TMjxy45g7O",
    "papermill": {
     "duration": 0.328256,
     "end_time": "2022-03-04T00:09:49.473512",
     "exception": false,
     "start_time": "2022-03-04T00:09:49.145256",
     "status": "completed"
    },
    "tags": []
   },
   "source": [
    "# Sentiment Analysis"
   ]
  },
  {
   "cell_type": "markdown",
   "id": "0bd8c91a",
   "metadata": {
    "id": "IDzjucHL5lLL",
    "papermill": {
     "duration": 0.327536,
     "end_time": "2022-03-04T00:09:50.125975",
     "exception": false,
     "start_time": "2022-03-04T00:09:49.798439",
     "status": "completed"
    },
    "tags": []
   },
   "source": [
    "## Lexicon Sentiment Analysis - TextBlob and VADER"
   ]
  },
  {
   "cell_type": "code",
   "execution_count": 23,
   "id": "df4b5de9",
   "metadata": {
    "execution": {
     "iopub.execute_input": "2022-03-04T00:09:50.784270Z",
     "iopub.status.busy": "2022-03-04T00:09:50.783184Z",
     "iopub.status.idle": "2022-03-04T00:09:50.786755Z",
     "shell.execute_reply": "2022-03-04T00:09:50.787264Z",
     "shell.execute_reply.started": "2022-03-03T23:10:24.660339Z"
    },
    "id": "brCk-4I50IgW",
    "papermill": {
     "duration": 0.33636,
     "end_time": "2022-03-04T00:09:50.787436",
     "exception": false,
     "start_time": "2022-03-04T00:09:50.451076",
     "status": "completed"
    },
    "tags": []
   },
   "outputs": [],
   "source": [
    "def textblob_sentiment(text):\n",
    "        analysis = TextBlob(clean_tweet(text))\n",
    "        if analysis.sentiment.polarity > 0:\n",
    "            return \"Positive\"\n",
    "        elif analysis.sentiment.polarity < 0:\n",
    "            return \"Negative\"\n",
    "        else:\n",
    "            return \"Neutral\""
   ]
  },
  {
   "cell_type": "code",
   "execution_count": 24,
   "id": "bb3f6f32",
   "metadata": {
    "execution": {
     "iopub.execute_input": "2022-03-04T00:09:51.444559Z",
     "iopub.status.busy": "2022-03-04T00:09:51.442339Z",
     "iopub.status.idle": "2022-03-04T00:09:51.446478Z",
     "shell.execute_reply": "2022-03-04T00:09:51.446889Z",
     "shell.execute_reply.started": "2022-03-03T23:10:25.697344Z"
    },
    "id": "x5o7WaBl0IgW",
    "papermill": {
     "duration": 0.333282,
     "end_time": "2022-03-04T00:09:51.447060",
     "exception": false,
     "start_time": "2022-03-04T00:09:51.113778",
     "status": "completed"
    },
    "tags": []
   },
   "outputs": [],
   "source": [
    "def sentiment_scores(text):\n",
    "    sid_obj = SentimentIntensityAnalyzer()\n",
    "    sentiment_dict = sid_obj.polarity_scores(clean_tweet(text))\n",
    "    if sentiment_dict['compound'] >= 0.05 :\n",
    "        return \"Positive\"\n",
    "    elif sentiment_dict['compound'] <= -0.05 :\n",
    "        return \"Negative\"\n",
    "    else :\n",
    "        return \"Neutral\""
   ]
  },
  {
   "cell_type": "code",
   "execution_count": 25,
   "id": "2ac75c0e",
   "metadata": {
    "execution": {
     "iopub.execute_input": "2022-03-04T00:09:52.099124Z",
     "iopub.status.busy": "2022-03-04T00:09:52.098461Z",
     "iopub.status.idle": "2022-03-04T00:09:52.104979Z",
     "shell.execute_reply": "2022-03-04T00:09:52.105456Z",
     "shell.execute_reply.started": "2022-03-03T23:10:39.342147Z"
    },
    "executionInfo": {
     "elapsed": 16,
     "status": "ok",
     "timestamp": 1645992890371,
     "user": {
      "displayName": "Vamsy Tammineedi",
      "photoUrl": "https://lh3.googleusercontent.com/a-/AOh14GgoreFVp54oCF9HTZ8k31IkTQ0SEh6ilfCoZnVz=s64",
      "userId": "14108204789502381002"
     },
     "user_tz": 360
    },
    "id": "D7KT9-Pw0IgW",
    "outputId": "79561c72-52e9-43ec-ccc1-dd3b0a9c7197",
    "papermill": {
     "duration": 0.332874,
     "end_time": "2022-03-04T00:09:52.105657",
     "exception": false,
     "start_time": "2022-03-04T00:09:51.772783",
     "status": "completed"
    },
    "tags": []
   },
   "outputs": [
    {
     "data": {
      "text/plain": [
       "'Just finished watching this ⭕\\n\"Circle\" from Squid Game\\n\\n#artbyinyu #chibi #chibiart #SquidGame #squidgamefanart… https://t.co/06lbaZBiiH'"
      ]
     },
     "execution_count": 25,
     "metadata": {},
     "output_type": "execute_result"
    }
   ],
   "source": [
    "I = 75234 #12334 #VADER IMP\n",
    "# I = 1236 # NEGA\n",
    "# I= 8564 #BAD\n",
    "# I= 8536 #POS\n",
    "data['text'][I]"
   ]
  },
  {
   "cell_type": "code",
   "execution_count": 26,
   "id": "22a85505",
   "metadata": {
    "execution": {
     "iopub.execute_input": "2022-03-04T00:09:52.763093Z",
     "iopub.status.busy": "2022-03-04T00:09:52.761771Z",
     "iopub.status.idle": "2022-03-04T00:09:52.768215Z",
     "shell.execute_reply": "2022-03-04T00:09:52.768846Z",
     "shell.execute_reply.started": "2022-03-03T23:10:39.892162Z"
    },
    "executionInfo": {
     "elapsed": 15,
     "status": "ok",
     "timestamp": 1645992890371,
     "user": {
      "displayName": "Vamsy Tammineedi",
      "photoUrl": "https://lh3.googleusercontent.com/a-/AOh14GgoreFVp54oCF9HTZ8k31IkTQ0SEh6ilfCoZnVz=s64",
      "userId": "14108204789502381002"
     },
     "user_tz": 360
    },
    "id": "33bhFEHe0IgW",
    "outputId": "976b8437-12ea-46ba-8d38-67a6fb11f78b",
    "papermill": {
     "duration": 0.339847,
     "end_time": "2022-03-04T00:09:52.769018",
     "exception": false,
     "start_time": "2022-03-04T00:09:52.429171",
     "status": "completed"
    },
    "tags": []
   },
   "outputs": [
    {
     "data": {
      "text/plain": [
       "'Just finished watching this Circle from Squid Game'"
      ]
     },
     "execution_count": 26,
     "metadata": {},
     "output_type": "execute_result"
    }
   ],
   "source": [
    "clean_tweet(data['text'][I])"
   ]
  },
  {
   "cell_type": "code",
   "execution_count": 27,
   "id": "7198c5e1",
   "metadata": {
    "execution": {
     "iopub.execute_input": "2022-03-04T00:09:53.424570Z",
     "iopub.status.busy": "2022-03-04T00:09:53.423898Z",
     "iopub.status.idle": "2022-03-04T00:09:53.477304Z",
     "shell.execute_reply": "2022-03-04T00:09:53.477783Z",
     "shell.execute_reply.started": "2022-03-03T23:10:40.434802Z"
    },
    "executionInfo": {
     "elapsed": 15,
     "status": "ok",
     "timestamp": 1645992890372,
     "user": {
      "displayName": "Vamsy Tammineedi",
      "photoUrl": "https://lh3.googleusercontent.com/a-/AOh14GgoreFVp54oCF9HTZ8k31IkTQ0SEh6ilfCoZnVz=s64",
      "userId": "14108204789502381002"
     },
     "user_tz": 360
    },
    "id": "u3WHQM1t0IgW",
    "outputId": "81a4478c-c54f-4465-d113-803a47b3bc1d",
    "papermill": {
     "duration": 0.382697,
     "end_time": "2022-03-04T00:09:53.477955",
     "exception": false,
     "start_time": "2022-03-04T00:09:53.095258",
     "status": "completed"
    },
    "tags": []
   },
   "outputs": [
    {
     "data": {
      "text/plain": [
       "'Negative'"
      ]
     },
     "execution_count": 27,
     "metadata": {},
     "output_type": "execute_result"
    }
   ],
   "source": [
    "textblob_sentiment(clean_tweet(data['text'][I]))"
   ]
  },
  {
   "cell_type": "code",
   "execution_count": 28,
   "id": "0ee48ec6",
   "metadata": {
    "execution": {
     "iopub.execute_input": "2022-03-04T00:09:54.131366Z",
     "iopub.status.busy": "2022-03-04T00:09:54.130581Z",
     "iopub.status.idle": "2022-03-04T00:09:54.151351Z",
     "shell.execute_reply": "2022-03-04T00:09:54.150751Z",
     "shell.execute_reply.started": "2022-03-03T23:10:42.782611Z"
    },
    "executionInfo": {
     "elapsed": 13,
     "status": "ok",
     "timestamp": 1645992890372,
     "user": {
      "displayName": "Vamsy Tammineedi",
      "photoUrl": "https://lh3.googleusercontent.com/a-/AOh14GgoreFVp54oCF9HTZ8k31IkTQ0SEh6ilfCoZnVz=s64",
      "userId": "14108204789502381002"
     },
     "user_tz": 360
    },
    "id": "xybNzQBy0IgW",
    "outputId": "d75a2e7e-5193-4eea-8809-b021a0eb86a1",
    "papermill": {
     "duration": 0.351224,
     "end_time": "2022-03-04T00:09:54.151508",
     "exception": false,
     "start_time": "2022-03-04T00:09:53.800284",
     "status": "completed"
    },
    "tags": []
   },
   "outputs": [
    {
     "data": {
      "text/plain": [
       "'Neutral'"
      ]
     },
     "execution_count": 28,
     "metadata": {},
     "output_type": "execute_result"
    }
   ],
   "source": [
    "sentiment_scores(clean_tweet(data['text'][I]))"
   ]
  },
  {
   "cell_type": "code",
   "execution_count": null,
   "id": "12ed78ec",
   "metadata": {
    "execution": {
     "iopub.execute_input": "2022-03-04T00:09:54.861647Z",
     "iopub.status.busy": "2022-03-04T00:09:54.860578Z",
     "iopub.status.idle": "2022-03-04T00:10:18.953981Z",
     "shell.execute_reply": "2022-03-04T00:10:18.954587Z",
     "shell.execute_reply.started": "2022-03-03T23:10:45.28515Z"
    },
    "executionInfo": {
     "elapsed": 29144,
     "status": "ok",
     "timestamp": 1646241700555,
     "user": {
      "displayName": "Vamsy Tammineedi",
      "photoUrl": "https://lh3.googleusercontent.com/a-/AOh14GgoreFVp54oCF9HTZ8k31IkTQ0SEh6ilfCoZnVz=s64",
      "userId": "14108204789502381002"
     },
     "user_tz": 360
    },
    "id": "VsDGypXL0IgW",
    "outputId": "d7eb43f5-5d61-4252-dc8a-7ec0294ce310",
    "papermill": {
     "duration": 24.472705,
     "end_time": "2022-03-04T00:10:18.954786",
     "exception": false,
     "start_time": "2022-03-04T00:09:54.482081",
     "status": "completed"
    },
    "tags": []
   },
   "outputs": [],
   "source": [
    "data['TextBlob_Sentiment']=data['text'].apply(lambda x:textblob_sentiment(clean_tweet(x)))"
   ]
  },
  {
   "cell_type": "code",
   "execution_count": null,
   "id": "a899e550",
   "metadata": {
    "execution": {
     "iopub.execute_input": "2022-03-04T00:10:19.622284Z",
     "iopub.status.busy": "2022-03-04T00:10:19.621246Z",
     "iopub.status.idle": "2022-03-04T00:21:00.353057Z",
     "shell.execute_reply": "2022-03-04T00:21:00.353617Z",
     "shell.execute_reply.started": "2022-03-03T23:11:16.865594Z"
    },
    "executionInfo": {
     "elapsed": 708602,
     "status": "ok",
     "timestamp": 1646242409150,
     "user": {
      "displayName": "Vamsy Tammineedi",
      "photoUrl": "https://lh3.googleusercontent.com/a-/AOh14GgoreFVp54oCF9HTZ8k31IkTQ0SEh6ilfCoZnVz=s64",
      "userId": "14108204789502381002"
     },
     "user_tz": 360
    },
    "id": "KIcl82yT0IgX",
    "outputId": "bb91f566-b251-4bc0-aed0-0c19f8e8e9c1",
    "papermill": {
     "duration": 641.07149,
     "end_time": "2022-03-04T00:21:00.353966",
     "exception": false,
     "start_time": "2022-03-04T00:10:19.282476",
     "status": "completed"
    },
    "tags": []
   },
   "outputs": [],
   "source": [
    "data['vader_Sentiment']=data['text'].apply(lambda x: sentiment_scores(clean_tweet(x)))"
   ]
  },
  {
   "cell_type": "code",
   "execution_count": 31,
   "id": "e311bf34",
   "metadata": {
    "execution": {
     "iopub.execute_input": "2022-03-04T00:21:01.036491Z",
     "iopub.status.busy": "2022-03-04T00:21:01.035807Z",
     "iopub.status.idle": "2022-03-04T00:21:01.279588Z",
     "shell.execute_reply": "2022-03-04T00:21:01.279034Z",
     "shell.execute_reply.started": "2022-03-03T23:26:01.439632Z"
    },
    "executionInfo": {
     "elapsed": 328,
     "status": "ok",
     "timestamp": 1646242409475,
     "user": {
      "displayName": "Vamsy Tammineedi",
      "photoUrl": "https://lh3.googleusercontent.com/a-/AOh14GgoreFVp54oCF9HTZ8k31IkTQ0SEh6ilfCoZnVz=s64",
      "userId": "14108204789502381002"
     },
     "user_tz": 360
    },
    "id": "7moE1ZQX0IgX",
    "outputId": "f2ed94bf-2ec4-48e9-86c7-d3793f99f0a7",
    "papermill": {
     "duration": 0.583789,
     "end_time": "2022-03-04T00:21:01.279727",
     "exception": false,
     "start_time": "2022-03-04T00:21:00.695938",
     "status": "completed"
    },
    "tags": []
   },
   "outputs": [
    {
     "data": {
      "image/png": "[encoded data removed]",
      "text/plain": [
       "<Figure size 800x600 with 1 Axes>"
      ]
     },
     "metadata": {},
     "output_type": "display_data"
    }
   ],
   "source": [
    "fig = plt.figure(figsize=(8,6))\n",
    "ax = sns.countplot(x=data['TextBlob_Sentiment'],color='steelblue')\n",
    "total = len(data['TextBlob_Sentiment'])\n",
    "for p in ax.patches:\n",
    "    x = p.get_x() + p.get_width() / 2 - 0.1\n",
    "    y = p.get_y() + p.get_height() + 500\n",
    "    ax.annotate(p.get_height(), (x, y), size = 10)\n",
    "plt.xlabel('Sentiment')\n",
    "plt.title('TextBlob Sentiment')\n",
    "plt.show()"
   ]
  },
  {
   "cell_type": "code",
   "execution_count": 32,
   "id": "53a7f7e1",
   "metadata": {
    "execution": {
     "iopub.execute_input": "2022-03-04T00:21:01.963466Z",
     "iopub.status.busy": "2022-03-04T00:21:01.962459Z",
     "iopub.status.idle": "2022-03-04T00:21:02.202931Z",
     "shell.execute_reply": "2022-03-04T00:21:02.203464Z",
     "shell.execute_reply.started": "2022-03-03T23:26:01.771497Z"
    },
    "executionInfo": {
     "elapsed": 263,
     "status": "ok",
     "timestamp": 1646242409736,
     "user": {
      "displayName": "Vamsy Tammineedi",
      "photoUrl": "https://lh3.googleusercontent.com/a-/AOh14GgoreFVp54oCF9HTZ8k31IkTQ0SEh6ilfCoZnVz=s64",
      "userId": "14108204789502381002"
     },
     "user_tz": 360
    },
    "id": "cLId15h10IgX",
    "outputId": "84664c5e-b74f-43a3-c6e4-3b067b1bd3d4",
    "papermill": {
     "duration": 0.584839,
     "end_time": "2022-03-04T00:21:02.203652",
     "exception": false,
     "start_time": "2022-03-04T00:21:01.618813",
     "status": "completed"
    },
    "tags": []
   },
   "outputs": [
    {
     "data": {
      "image/png": "[encoded data removed]",
      "text/plain": [
       "<Figure size 800x600 with 1 Axes>"
      ]
     },
     "metadata": {},
     "output_type": "display_data"
    }
   ],
   "source": [
    "fig = plt.figure(figsize=(8,6))\n",
    "ax = sns.countplot(x=data['vader_Sentiment'],color='steelblue')\n",
    "total = len(data['vader_Sentiment'])\n",
    "for p in ax.patches:\n",
    "    x = p.get_x() + p.get_width() / 2 - 0.1\n",
    "    y = p.get_y() + p.get_height() + 500\n",
    "    ax.annotate(p.get_height(), (x, y), size = 10)\n",
    "plt.xlabel('Sentiment')\n",
    "plt.title('VADER Sentiment')\n",
    "plt.show()"
   ]
  },
  {
   "cell_type": "code",
   "execution_count": 33,
   "id": "36dd91dc",
   "metadata": {
    "execution": {
     "iopub.execute_input": "2022-03-04T00:21:02.893044Z",
     "iopub.status.busy": "2022-03-04T00:21:02.892180Z",
     "iopub.status.idle": "2022-03-04T00:21:02.895370Z",
     "shell.execute_reply": "2022-03-04T00:21:02.895869Z",
     "shell.execute_reply.started": "2022-03-03T23:26:30.500307Z"
    },
    "id": "d5yGlvPv0IgX",
    "papermill": {
     "duration": 0.350564,
     "end_time": "2022-03-04T00:21:02.896032",
     "exception": false,
     "start_time": "2022-03-04T00:21:02.545468",
     "status": "completed"
    },
    "tags": []
   },
   "outputs": [],
   "source": [
    "stop_word = stop_words[:]+['like','episode','watching','watched']"
   ]
  },
  {
   "cell_type": "code",
   "execution_count": 34,
   "id": "ebe55cdc",
   "metadata": {
    "execution": {
     "iopub.execute_input": "2022-03-04T00:21:03.581803Z",
     "iopub.status.busy": "2022-03-04T00:21:03.580871Z",
     "iopub.status.idle": "2022-03-04T00:21:06.135654Z",
     "shell.execute_reply": "2022-03-04T00:21:06.136396Z",
     "shell.execute_reply.started": "2022-03-03T23:26:31.084461Z"
    },
    "executionInfo": {
     "elapsed": 3195,
     "status": "ok",
     "timestamp": 1646242412929,
     "user": {
      "displayName": "Vamsy Tammineedi",
      "photoUrl": "https://lh3.googleusercontent.com/a-/AOh14GgoreFVp54oCF9HTZ8k31IkTQ0SEh6ilfCoZnVz=s64",
      "userId": "14108204789502381002"
     },
     "user_tz": 360
    },
    "id": "g-r-RzLR0IgX",
    "outputId": "8f8e706b-54ce-462d-9b4b-9512b4885bcb",
    "papermill": {
     "duration": 2.900536,
     "end_time": "2022-03-04T00:21:06.136595",
     "exception": false,
     "start_time": "2022-03-04T00:21:03.236059",
     "status": "completed"
    },
    "tags": []
   },
   "outputs": [],
   "source": [
    "# Word Cloud Negative words\n",
    "neg_ = data[data['TextBlob_Sentiment'] == 'Negative']['full_clean']\n",
    "text = \" \".join(neg_)\n",
    "#word_cloud_gen(text,stop_word)"
   ]
  },
  {
   "cell_type": "code",
   "execution_count": 35,
   "id": "4a622a34",
   "metadata": {
    "execution": {
     "iopub.execute_input": "2022-03-04T00:21:06.913170Z",
     "iopub.status.busy": "2022-03-04T00:21:06.912348Z",
     "iopub.status.idle": "2022-03-04T00:21:09.995252Z",
     "shell.execute_reply": "2022-03-04T00:21:09.995719Z",
     "shell.execute_reply.started": "2022-03-03T23:26:34.256382Z"
    },
    "executionInfo": {
     "elapsed": 3554,
     "status": "ok",
     "timestamp": 1646242416480,
     "user": {
      "displayName": "Vamsy Tammineedi",
      "photoUrl": "https://lh3.googleusercontent.com/a-/AOh14GgoreFVp54oCF9HTZ8k31IkTQ0SEh6ilfCoZnVz=s64",
      "userId": "14108204789502381002"
     },
     "user_tz": 360
    },
    "id": "Js3RaLhS0IgX",
    "outputId": "421a05bc-ef1e-46c0-a1c3-04ef0fa60302",
    "papermill": {
     "duration": 3.458743,
     "end_time": "2022-03-04T00:21:09.995883",
     "exception": false,
     "start_time": "2022-03-04T00:21:06.537140",
     "status": "completed"
    },
    "tags": []
   },
   "outputs": [],
   "source": [
    "# Word Cloud positive words\n",
    "pos_ = data[data['TextBlob_Sentiment'] == 'Positive']['full_clean']\n",
    "text = \" \".join(pos_)\n",
    "#word_cloud_gen(text,stop_words)"
   ]
  },
  {
   "cell_type": "markdown",
   "id": "7d2c1ba5",
   "metadata": {
    "id": "QNUOVRx_5Znw",
    "papermill": {
     "duration": 0.400794,
     "end_time": "2022-03-04T00:21:10.801704",
     "exception": false,
     "start_time": "2022-03-04T00:21:10.400910",
     "status": "completed"
    },
    "tags": []
   },
   "source": [
    "## Machine Learning Approach"
   ]
  },
  {
   "cell_type": "code",
   "execution_count": 37,
   "id": "76b39bc1",
   "metadata": {
    "execution": {
     "iopub.execute_input": "2022-03-04T00:21:11.602338Z",
     "iopub.status.busy": "2022-03-04T00:21:11.594709Z",
     "iopub.status.idle": "2022-03-04T00:21:11.606956Z",
     "shell.execute_reply": "2022-03-04T00:21:11.607483Z",
     "shell.execute_reply.started": "2022-03-03T23:27:13.254145Z"
    },
    "id": "glqkvIVO0Iga",
    "papermill": {
     "duration": 0.40062,
     "end_time": "2022-03-04T00:21:11.607676",
     "exception": false,
     "start_time": "2022-03-04T00:21:11.207056",
     "status": "completed"
    },
    "tags": []
   },
   "outputs": [],
   "source": [
    "# get only the text and sentiment columns\n",
    "\n",
    "labeled_data = data[['full_clean','vader_Sentiment']]\n",
    "labedled_data = labeled_data[labeled_data['vader_Sentiment'] != 'Neutral']"
   ]
  },
  {
   "cell_type": "code",
   "execution_count": 38,
   "id": "7d70d26b",
   "metadata": {
    "execution": {
     "iopub.execute_input": "2022-03-04T00:21:12.396960Z",
     "iopub.status.busy": "2022-03-04T00:21:12.395949Z",
     "iopub.status.idle": "2022-03-04T00:21:12.398747Z",
     "shell.execute_reply": "2022-03-04T00:21:12.398281Z",
     "shell.execute_reply.started": "2022-03-03T23:27:14.375686Z"
    },
    "id": "OstcCUCi9Y8A",
    "papermill": {
     "duration": 0.390147,
     "end_time": "2022-03-04T00:21:12.398893",
     "exception": false,
     "start_time": "2022-03-04T00:21:12.008746",
     "status": "completed"
    },
    "tags": []
   },
   "outputs": [],
   "source": [
    "def save_obj(path,obj):\n",
    "  with open(path,'wb') as f:\n",
    "    pickle.dump(obj,f)\n",
    "  return path\n",
    "\n",
    "def load_obj(path):\n",
    "  with open(path,'rb') as f:\n",
    "    return pickle.load(f)"
   ]
  },
  {
   "cell_type": "code",
   "execution_count": 39,
   "id": "f3005448",
   "metadata": {
    "execution": {
     "iopub.execute_input": "2022-03-04T00:21:13.187732Z",
     "iopub.status.busy": "2022-03-04T00:21:13.186776Z",
     "iopub.status.idle": "2022-03-04T00:21:13.196787Z",
     "shell.execute_reply": "2022-03-04T00:21:13.197331Z",
     "shell.execute_reply.started": "2022-03-03T23:27:17.241314Z"
    },
    "executionInfo": {
     "elapsed": 96,
     "status": "ok",
     "timestamp": 1646246430795,
     "user": {
      "displayName": "Vamsy Tammineedi",
      "photoUrl": "https://lh3.googleusercontent.com/a-/AOh14GgoreFVp54oCF9HTZ8k31IkTQ0SEh6ilfCoZnVz=s64",
      "userId": "14108204789502381002"
     },
     "user_tz": 360
    },
    "id": "QHHba9gD0Iga",
    "outputId": "d623bcc9-d175-4f7b-c7f6-426570affd27",
    "papermill": {
     "duration": 0.402155,
     "end_time": "2022-03-04T00:21:13.197515",
     "exception": false,
     "start_time": "2022-03-04T00:21:12.795360",
     "status": "completed"
    },
    "tags": []
   },
   "outputs": [
    {
     "data": {
      "text/html": [
       "<div>\n",
       "<style scoped>\n",
       "    .dataframe tbody tr th:only-of-type {\n",
       "        vertical-align: middle;\n",
       "    }\n",
       "\n",
       "    .dataframe tbody tr th {\n",
       "        vertical-align: top;\n",
       "    }\n",
       "\n",
       "    .dataframe thead th {\n",
       "        text-align: right;\n",
       "    }\n",
       "</style>\n",
       "<table border=\"1\" class=\"dataframe\">\n",
       "  <thead>\n",
       "    <tr style=\"text-align: right;\">\n",
       "      <th></th>\n",
       "      <th>full_clean</th>\n",
       "      <th>vader_Sentiment</th>\n",
       "    </tr>\n",
       "  </thead>\n",
       "  <tbody>\n",
       "    <tr>\n",
       "      <th>0</th>\n",
       "      <td>life hit time poverty strike yougong yoo let play</td>\n",
       "      <td>Negative</td>\n",
       "    </tr>\n",
       "    <tr>\n",
       "      <th>1</th>\n",
       "      <td>marble episode ruined</td>\n",
       "      <td>Negative</td>\n",
       "    </tr>\n",
       "    <tr>\n",
       "      <th>3</th>\n",
       "      <td>blood 1st slideim joining squidgame thing alre...</td>\n",
       "      <td>Negative</td>\n",
       "    </tr>\n",
       "    <tr>\n",
       "      <th>4</th>\n",
       "      <td>two first game player killed mask guy bloody n...</td>\n",
       "      <td>Negative</td>\n",
       "    </tr>\n",
       "    <tr>\n",
       "      <th>6</th>\n",
       "      <td>pls use gun</td>\n",
       "      <td>Negative</td>\n",
       "    </tr>\n",
       "  </tbody>\n",
       "</table>\n",
       "</div>"
      ],
      "text/plain": [
       "                                          full_clean vader_Sentiment\n",
       "0  life hit time poverty strike yougong yoo let play        Negative\n",
       "1                              marble episode ruined        Negative\n",
       "3  blood 1st slideim joining squidgame thing alre...        Negative\n",
       "4  two first game player killed mask guy bloody n...        Negative\n",
       "6                                        pls use gun        Negative"
      ]
     },
     "execution_count": 39,
     "metadata": {},
     "output_type": "execute_result"
    }
   ],
   "source": [
    "labedled_data.head()"
   ]
  },
  {
   "cell_type": "code",
   "execution_count": 40,
   "id": "1490e209",
   "metadata": {
    "execution": {
     "iopub.execute_input": "2022-03-04T00:21:13.981163Z",
     "iopub.status.busy": "2022-03-04T00:21:13.980181Z",
     "iopub.status.idle": "2022-03-04T00:21:14.024777Z",
     "shell.execute_reply": "2022-03-04T00:21:14.025274Z",
     "shell.execute_reply.started": "2022-03-03T23:27:19.294523Z"
    },
    "id": "LK_bxU7q0Igb",
    "papermill": {
     "duration": 0.442666,
     "end_time": "2022-03-04T00:21:14.025462",
     "exception": false,
     "start_time": "2022-03-04T00:21:13.582796",
     "status": "completed"
    },
    "tags": []
   },
   "outputs": [],
   "source": [
    "train, val = train_test_split(labedled_data,test_size=0.2,random_state=213,stratify=labedled_data['vader_Sentiment'])"
   ]
  },
  {
   "cell_type": "code",
   "execution_count": 41,
   "id": "26bc3c33",
   "metadata": {
    "execution": {
     "iopub.execute_input": "2022-03-04T00:21:14.809894Z",
     "iopub.status.busy": "2022-03-04T00:21:14.808937Z",
     "iopub.status.idle": "2022-03-04T00:21:14.813551Z",
     "shell.execute_reply": "2022-03-04T00:21:14.814036Z",
     "shell.execute_reply.started": "2022-03-03T23:27:19.759693Z"
    },
    "id": "o5iSpLnu0Igb",
    "papermill": {
     "duration": 0.406494,
     "end_time": "2022-03-04T00:21:14.814212",
     "exception": false,
     "start_time": "2022-03-04T00:21:14.407718",
     "status": "completed"
    },
    "tags": []
   },
   "outputs": [],
   "source": [
    "x_train = train['full_clean']\n",
    "y_train = train['vader_Sentiment']\n",
    "\n",
    "x_test = val['full_clean']\n",
    "y_test = val['vader_Sentiment']\n"
   ]
  },
  {
   "cell_type": "code",
   "execution_count": 42,
   "id": "56cc98f3",
   "metadata": {
    "execution": {
     "iopub.execute_input": "2022-03-04T00:21:15.616502Z",
     "iopub.status.busy": "2022-03-04T00:21:15.615520Z",
     "iopub.status.idle": "2022-03-04T00:21:16.078043Z",
     "shell.execute_reply": "2022-03-04T00:21:16.077483Z",
     "shell.execute_reply.started": "2022-03-03T23:27:26.291642Z"
    },
    "id": "klgJVSFC0Igb",
    "papermill": {
     "duration": 0.863875,
     "end_time": "2022-03-04T00:21:16.078195",
     "exception": false,
     "start_time": "2022-03-04T00:21:15.214320",
     "status": "completed"
    },
    "tags": []
   },
   "outputs": [],
   "source": [
    "vectorizer = TfidfVectorizer(sublinear_tf = True,use_idf = True)\n",
    "train_vectors = vectorizer.fit_transform(x_train)\n",
    "test_vectors = vectorizer.transform(x_test)"
   ]
  },
  {
   "cell_type": "code",
   "execution_count": 43,
   "id": "7d32b867",
   "metadata": {
    "execution": {
     "iopub.execute_input": "2022-03-04T00:21:16.880824Z",
     "iopub.status.busy": "2022-03-04T00:21:16.880055Z",
     "iopub.status.idle": "2022-03-04T00:21:16.883332Z",
     "shell.execute_reply": "2022-03-04T00:21:16.883902Z",
     "shell.execute_reply.started": "2022-03-03T23:27:30.49378Z"
    },
    "executionInfo": {
     "elapsed": 8,
     "status": "ok",
     "timestamp": 1645850804408,
     "user": {
      "displayName": "Vamsy Tammineedi",
      "photoUrl": "https://lh3.googleusercontent.com/a-/AOh14GgoreFVp54oCF9HTZ8k31IkTQ0SEh6ilfCoZnVz=s64",
      "userId": "14108204789502381002"
     },
     "user_tz": 360
    },
    "id": "Slr5oBSY0Igb",
    "outputId": "d93d6e64-c9b4-49de-e0b7-56c3c0a0d2de",
    "papermill": {
     "duration": 0.407868,
     "end_time": "2022-03-04T00:21:16.884169",
     "exception": false,
     "start_time": "2022-03-04T00:21:16.476301",
     "status": "completed"
    },
    "tags": []
   },
   "outputs": [
    {
     "data": {
      "text/plain": [
       "(39376, 19704)"
      ]
     },
     "execution_count": 43,
     "metadata": {},
     "output_type": "execute_result"
    }
   ],
   "source": [
    "train_vectors.shape"
   ]
  },
  {
   "cell_type": "code",
   "execution_count": 44,
   "id": "fd5395df",
   "metadata": {
    "execution": {
     "iopub.execute_input": "2022-03-04T00:21:17.695098Z",
     "iopub.status.busy": "2022-03-04T00:21:17.694319Z",
     "iopub.status.idle": "2022-03-04T00:21:17.696998Z",
     "shell.execute_reply": "2022-03-04T00:21:17.696537Z"
    },
    "id": "SGq8s-jr9fOT",
    "papermill": {
     "duration": 0.387276,
     "end_time": "2022-03-04T00:21:17.697146",
     "exception": false,
     "start_time": "2022-03-04T00:21:17.309870",
     "status": "completed"
    },
    "tags": []
   },
   "outputs": [],
   "source": [
    "# save_obj('train_vec.pkl',train_vectors)\n",
    "# save_obj('test_vec.pkl',test_vectors)"
   ]
  },
  {
   "cell_type": "code",
   "execution_count": 45,
   "id": "6c304268",
   "metadata": {
    "execution": {
     "iopub.execute_input": "2022-03-04T00:21:18.464846Z",
     "iopub.status.busy": "2022-03-04T00:21:18.464000Z",
     "iopub.status.idle": "2022-03-04T00:21:18.466544Z",
     "shell.execute_reply": "2022-03-04T00:21:18.466053Z"
    },
    "id": "LcWXk5qufBFr",
    "papermill": {
     "duration": 0.38568,
     "end_time": "2022-03-04T00:21:18.466682",
     "exception": false,
     "start_time": "2022-03-04T00:21:18.081002",
     "status": "completed"
    },
    "tags": []
   },
   "outputs": [],
   "source": [
    "# train_vectors = load_obj('train_vec.pkl')\n",
    "# test_vectors = load_obj('test_vec.pkl')"
   ]
  },
  {
   "cell_type": "code",
   "execution_count": 46,
   "id": "502e6cfc",
   "metadata": {
    "execution": {
     "iopub.execute_input": "2022-03-04T00:21:19.242675Z",
     "iopub.status.busy": "2022-03-04T00:21:19.241604Z",
     "iopub.status.idle": "2022-03-04T00:39:38.277920Z",
     "shell.execute_reply": "2022-03-04T00:39:38.278441Z",
     "shell.execute_reply.started": "2022-03-03T23:27:41.835307Z"
    },
    "executionInfo": {
     "elapsed": 2310427,
     "status": "ok",
     "timestamp": 1645856709324,
     "user": {
      "displayName": "Vamsy Tammineedi",
      "photoUrl": "https://lh3.googleusercontent.com/a-/AOh14GgoreFVp54oCF9HTZ8k31IkTQ0SEh6ilfCoZnVz=s64",
      "userId": "14108204789502381002"
     },
     "user_tz": 360
    },
    "id": "blBpbS2F0Igb",
    "outputId": "1c5c39b4-4ce2-49ea-de0f-25e1807e32d5",
    "papermill": {
     "duration": 1099.427269,
     "end_time": "2022-03-04T00:39:38.278722",
     "exception": false,
     "start_time": "2022-03-04T00:21:18.851453",
     "status": "completed"
    },
    "tags": []
   },
   "outputs": [
    {
     "name": "stdout",
     "output_type": "stream",
     "text": [
      "Sum of variance ratios:  0.9473032913484698\n"
     ]
    }
   ],
   "source": [
    "svd_model = TruncatedSVD(n_components=8000)\n",
    "svd_model.fit(train_vectors)\n",
    "print(\"Sum of variance ratios: \",sum(svd_model.explained_variance_ratio_))"
   ]
  },
  {
   "cell_type": "code",
   "execution_count": 47,
   "id": "198c3f17",
   "metadata": {
    "execution": {
     "iopub.execute_input": "2022-03-04T00:39:39.058646Z",
     "iopub.status.busy": "2022-03-04T00:39:39.057712Z",
     "iopub.status.idle": "2022-03-04T00:39:39.061345Z",
     "shell.execute_reply": "2022-03-04T00:39:39.061977Z"
    },
    "id": "ycH7HkQkt6rj",
    "papermill": {
     "duration": 0.396207,
     "end_time": "2022-03-04T00:39:39.062151",
     "exception": false,
     "start_time": "2022-03-04T00:39:38.665944",
     "status": "completed"
    },
    "tags": []
   },
   "outputs": [],
   "source": [
    "# save_obj('svd_model.pkl',svd_model)"
   ]
  },
  {
   "cell_type": "code",
   "execution_count": 48,
   "id": "2d8d35b5",
   "metadata": {
    "execution": {
     "iopub.execute_input": "2022-03-04T00:39:39.872287Z",
     "iopub.status.busy": "2022-03-04T00:39:39.871330Z",
     "iopub.status.idle": "2022-03-04T00:39:39.874820Z",
     "shell.execute_reply": "2022-03-04T00:39:39.875410Z"
    },
    "id": "QfcIedA8kCIk",
    "papermill": {
     "duration": 0.428032,
     "end_time": "2022-03-04T00:39:39.875585",
     "exception": false,
     "start_time": "2022-03-04T00:39:39.447553",
     "status": "completed"
    },
    "tags": []
   },
   "outputs": [],
   "source": [
    "# svd_model = load_obj('svd_model.pkl')"
   ]
  },
  {
   "cell_type": "code",
   "execution_count": 49,
   "id": "8b61c4ff",
   "metadata": {
    "execution": {
     "iopub.execute_input": "2022-03-04T00:39:40.659947Z",
     "iopub.status.busy": "2022-03-04T00:39:40.658904Z",
     "iopub.status.idle": "2022-03-04T00:39:47.050411Z",
     "shell.execute_reply": "2022-03-04T00:39:47.049406Z",
     "shell.execute_reply.started": "2022-03-03T23:51:42.844275Z"
    },
    "id": "pyLsGlEht6wo",
    "papermill": {
     "duration": 6.785478,
     "end_time": "2022-03-04T00:39:47.050569",
     "exception": false,
     "start_time": "2022-03-04T00:39:40.265091",
     "status": "completed"
    },
    "tags": []
   },
   "outputs": [],
   "source": [
    "x_train_red = svd_model.transform(train_vectors)"
   ]
  },
  {
   "cell_type": "code",
   "execution_count": 50,
   "id": "bda8649b",
   "metadata": {
    "execution": {
     "iopub.execute_input": "2022-03-04T00:39:47.833486Z",
     "iopub.status.busy": "2022-03-04T00:39:47.832879Z",
     "iopub.status.idle": "2022-03-04T00:39:49.530999Z",
     "shell.execute_reply": "2022-03-04T00:39:49.531525Z",
     "shell.execute_reply.started": "2022-03-03T23:51:50.493555Z"
    },
    "id": "_l6rBCNCt6x1",
    "papermill": {
     "duration": 2.088044,
     "end_time": "2022-03-04T00:39:49.531723",
     "exception": false,
     "start_time": "2022-03-04T00:39:47.443679",
     "status": "completed"
    },
    "tags": []
   },
   "outputs": [],
   "source": [
    "x_test_red = svd_model.transform(test_vectors)"
   ]
  },
  {
   "cell_type": "code",
   "execution_count": 51,
   "id": "da0e1d8a",
   "metadata": {
    "execution": {
     "iopub.execute_input": "2022-03-04T00:39:50.313657Z",
     "iopub.status.busy": "2022-03-04T00:39:50.312680Z",
     "iopub.status.idle": "2022-03-04T00:39:50.318206Z",
     "shell.execute_reply": "2022-03-04T00:39:50.318795Z",
     "shell.execute_reply.started": "2022-03-03T23:52:07.056424Z"
    },
    "executionInfo": {
     "elapsed": 16,
     "status": "ok",
     "timestamp": 1645925568214,
     "user": {
      "displayName": "Vamsy Tammineedi",
      "photoUrl": "https://lh3.googleusercontent.com/a-/AOh14GgoreFVp54oCF9HTZ8k31IkTQ0SEh6ilfCoZnVz=s64",
      "userId": "14108204789502381002"
     },
     "user_tz": 360
    },
    "id": "g_vfirj3t62a",
    "outputId": "99661ef2-0bb1-4ee8-cb11-20f346027c36",
    "papermill": {
     "duration": 0.395389,
     "end_time": "2022-03-04T00:39:50.318965",
     "exception": false,
     "start_time": "2022-03-04T00:39:49.923576",
     "status": "completed"
    },
    "tags": []
   },
   "outputs": [
    {
     "data": {
      "text/plain": [
       "(9845, 8000)"
      ]
     },
     "execution_count": 51,
     "metadata": {},
     "output_type": "execute_result"
    }
   ],
   "source": [
    "x_test_red.shape"
   ]
  },
  {
   "cell_type": "code",
   "execution_count": 52,
   "id": "4f1d2c4e",
   "metadata": {
    "execution": {
     "iopub.execute_input": "2022-03-04T00:39:51.112669Z",
     "iopub.status.busy": "2022-03-04T00:39:51.111724Z",
     "iopub.status.idle": "2022-03-04T00:39:51.115005Z",
     "shell.execute_reply": "2022-03-04T00:39:51.115573Z",
     "shell.execute_reply.started": "2022-03-03T23:52:07.261054Z"
    },
    "executionInfo": {
     "elapsed": 5,
     "status": "ok",
     "timestamp": 1645925568214,
     "user": {
      "displayName": "Vamsy Tammineedi",
      "photoUrl": "https://lh3.googleusercontent.com/a-/AOh14GgoreFVp54oCF9HTZ8k31IkTQ0SEh6ilfCoZnVz=s64",
      "userId": "14108204789502381002"
     },
     "user_tz": 360
    },
    "id": "Iqj9a3TFutQ6",
    "outputId": "45008068-e9f9-48ac-80a3-cc5c340e48c8",
    "papermill": {
     "duration": 0.391614,
     "end_time": "2022-03-04T00:39:51.115750",
     "exception": false,
     "start_time": "2022-03-04T00:39:50.724136",
     "status": "completed"
    },
    "tags": []
   },
   "outputs": [
    {
     "data": {
      "text/plain": [
       "(39376, 8000)"
      ]
     },
     "execution_count": 52,
     "metadata": {},
     "output_type": "execute_result"
    }
   ],
   "source": [
    "x_train_red.shape"
   ]
  },
  {
   "cell_type": "code",
   "execution_count": 53,
   "id": "ac58ab4b",
   "metadata": {
    "execution": {
     "iopub.execute_input": "2022-03-04T00:39:51.886123Z",
     "iopub.status.busy": "2022-03-04T00:39:51.885090Z",
     "iopub.status.idle": "2022-03-04T00:39:51.888848Z",
     "shell.execute_reply": "2022-03-04T00:39:51.889439Z"
    },
    "id": "Amtt_L7autVh",
    "papermill": {
     "duration": 0.39176,
     "end_time": "2022-03-04T00:39:51.889609",
     "exception": false,
     "start_time": "2022-03-04T00:39:51.497849",
     "status": "completed"
    },
    "tags": []
   },
   "outputs": [],
   "source": [
    "# save_obj('train_red.pkl',x_train_red)\n",
    "# save_obj('test_red.pkl',x_test_red)\n",
    "# save_obj('train_y.pkl',y_train)\n",
    "# save_obj('test_y.pkl',y_test)\n",
    "\n",
    "# x_train_red = load_obj('train_red.pkl')\n",
    "# x_test_red = load_obj('test_red.pkl')\n",
    "# y_train = load_obj('train_y.pkl')\n",
    "# y_test = load_obj('test_y.pkl')\n"
   ]
  },
  {
   "cell_type": "code",
   "execution_count": 54,
   "id": "229a6d4f",
   "metadata": {
    "execution": {
     "iopub.execute_input": "2022-03-04T00:39:52.660101Z",
     "iopub.status.busy": "2022-03-04T00:39:52.659088Z",
     "iopub.status.idle": "2022-03-04T01:48:20.570819Z",
     "shell.execute_reply": "2022-03-04T01:48:20.571425Z"
    },
    "id": "M0b95zvzzehU",
    "papermill": {
     "duration": 4108.299565,
     "end_time": "2022-03-04T01:48:20.571711",
     "exception": false,
     "start_time": "2022-03-04T00:39:52.272146",
     "status": "completed"
    },
    "tags": []
   },
   "outputs": [],
   "source": [
    "rf_model2 = RandomForestClassifier(n_estimators=700,random_state=213)\n",
    "rf_model2.fit(x_train_red,y_train)\n",
    "# save_obj('rf_model2.pkl',rf_model2)\n",
    "# rf_model2 = load_obj('rf_model2.pkl')\n",
    "predictions_rf = rf_model2.predict(x_test_red)"
   ]
  },
  {
   "cell_type": "code",
   "execution_count": 55,
   "id": "0266fd09",
   "metadata": {
    "execution": {
     "iopub.execute_input": "2022-03-04T01:48:21.382034Z",
     "iopub.status.busy": "2022-03-04T01:48:21.381122Z",
     "iopub.status.idle": "2022-03-04T01:48:21.709959Z",
     "shell.execute_reply": "2022-03-04T01:48:21.710421Z"
    },
    "executionInfo": {
     "elapsed": 752,
     "status": "ok",
     "timestamp": 1646252857031,
     "user": {
      "displayName": "Vamsy Tammineedi",
      "photoUrl": "https://lh3.googleusercontent.com/a-/AOh14GgoreFVp54oCF9HTZ8k31IkTQ0SEh6ilfCoZnVz=s64",
      "userId": "14108204789502381002"
     },
     "user_tz": 360
    },
    "id": "HnXwErYpRf1g",
    "outputId": "86601ac6-f43b-421f-d123-9f68888c7aaa",
    "papermill": {
     "duration": 0.724153,
     "end_time": "2022-03-04T01:48:21.710613",
     "exception": false,
     "start_time": "2022-03-04T01:48:20.986460",
     "status": "completed"
    },
    "tags": []
   },
   "outputs": [
    {
     "name": "stdout",
     "output_type": "stream",
     "text": [
      "Random Forest Model\n",
      "              precision    recall  f1-score   support\n",
      "\n",
      "    Negative       0.97      0.25      0.40      3066\n",
      "    Positive       0.75      1.00      0.85      6779\n",
      "\n",
      "    accuracy                           0.76      9845\n",
      "   macro avg       0.86      0.62      0.62      9845\n",
      "weighted avg       0.82      0.76      0.71      9845\n",
      "\n"
     ]
    }
   ],
   "source": [
    "print(\"Random Forest Model\")\n",
    "print(classification_report(y_test,predictions_rf))"
   ]
  },
  {
   "cell_type": "code",
   "execution_count": 56,
   "id": "0799246f",
   "metadata": {
    "execution": {
     "iopub.execute_input": "2022-03-04T01:48:22.509757Z",
     "iopub.status.busy": "2022-03-04T01:48:22.509053Z",
     "iopub.status.idle": "2022-03-04T04:08:54.315440Z",
     "shell.execute_reply": "2022-03-04T04:08:54.320392Z"
    },
    "id": "Sul37RpJu1M-",
    "papermill": {
     "duration": 8432.215688,
     "end_time": "2022-03-04T04:08:54.322210",
     "exception": false,
     "start_time": "2022-03-04T01:48:22.106522",
     "status": "completed"
    },
    "tags": []
   },
   "outputs": [],
   "source": [
    "SVM = svm.SVC(C=1.0, kernel='linear', degree=3, gamma='auto',random_state=213)\n",
    "SVM.fit(x_train_red,y_train)\n",
    "# save_obj('svm_model.pkl',SVM)\n",
    "# SVM = load_obj('svm_model.pkl')\n",
    "predictions_SVM = SVM.predict(x_test_red)"
   ]
  },
  {
   "cell_type": "code",
   "execution_count": 57,
   "id": "11a18304",
   "metadata": {
    "execution": {
     "iopub.execute_input": "2022-03-04T04:08:55.326519Z",
     "iopub.status.busy": "2022-03-04T04:08:55.230467Z",
     "iopub.status.idle": "2022-03-04T04:08:55.553904Z",
     "shell.execute_reply": "2022-03-04T04:08:55.553202Z"
    },
    "executionInfo": {
     "elapsed": 412,
     "status": "ok",
     "timestamp": 1646252875519,
     "user": {
      "displayName": "Vamsy Tammineedi",
      "photoUrl": "https://lh3.googleusercontent.com/a-/AOh14GgoreFVp54oCF9HTZ8k31IkTQ0SEh6ilfCoZnVz=s64",
      "userId": "14108204789502381002"
     },
     "user_tz": 360
    },
    "id": "VjRfVSkGJbLf",
    "outputId": "bdb5d1cf-2c89-4830-f229-aea5ed69cbf2",
    "papermill": {
     "duration": 0.76303,
     "end_time": "2022-03-04T04:08:55.554059",
     "exception": false,
     "start_time": "2022-03-04T04:08:54.791029",
     "status": "completed"
    },
    "tags": []
   },
   "outputs": [
    {
     "name": "stdout",
     "output_type": "stream",
     "text": [
      "SVM Model\n",
      "              precision    recall  f1-score   support\n",
      "\n",
      "    Negative       0.92      0.86      0.89      3066\n",
      "    Positive       0.94      0.97      0.95      6779\n",
      "\n",
      "    accuracy                           0.93      9845\n",
      "   macro avg       0.93      0.91      0.92      9845\n",
      "weighted avg       0.93      0.93      0.93      9845\n",
      "\n"
     ]
    }
   ],
   "source": [
    "print(\"SVM Model\")\n",
    "print(classification_report(y_test,predictions_SVM))"
   ]
  }
 ],
 "metadata": {
  "kernelspec": {
   "display_name": "Python 3 (ipykernel)",
   "language": "python",
   "name": "python3"
  },
  "language_info": {
   "codemirror_mode": {
    "name": "ipython",
    "version": 3
   },
   "file_extension": ".py",
   "mimetype": "text/x-python",
   "name": "python",
   "nbconvert_exporter": "python",
   "pygments_lexer": "ipython3",
   "version": "3.10.8"
  },
  "papermill": {
   "default_parameters": {},
   "duration": 14406.073141,
   "end_time": "2022-03-04T04:08:58.610624",
   "environment_variables": {},
   "exception": null,
   "input_path": "__notebook__.ipynb",
   "output_path": "__notebook__.ipynb",
   "parameters": {},
   "start_time": "2022-03-04T00:08:52.537483",
   "version": "2.3.3"
  }
 },
 "nbformat": 4,
 "nbformat_minor": 5
}
